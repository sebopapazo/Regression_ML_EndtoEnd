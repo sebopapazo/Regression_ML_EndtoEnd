{
 "cells": [
  {
   "cell_type": "code",
   "execution_count": 1,
   "id": "89cf7200",
   "metadata": {},
   "outputs": [
    {
     "name": "stdout",
     "output_type": "stream",
     "text": [
      "3.0.4\n"
     ]
    }
   ],
   "source": [
    "import xgboost as xgb\n",
    "print(xgb.__version__)"
   ]
  },
  {
   "cell_type": "code",
   "execution_count": 2,
   "id": "260096cb",
   "metadata": {},
   "outputs": [
    {
     "name": "stdout",
     "output_type": "stream",
     "text": [
      "/Users/riadanas/Desktop/housing regression MLE/.venv/bin/python\n",
      "3.0.4\n",
      "/Users/riadanas/Desktop/housing regression MLE/.venv/lib/python3.11/site-packages/xgboost/__init__.py\n"
     ]
    }
   ],
   "source": [
    "import sys, xgboost as xgb\n",
    "print(sys.executable)        # should point to .../.venv/bin/python\n",
    "print(xgb.__version__)       # should print 3.0.4\n",
    "print(xgb.__file__)          # should live under .../.venv/..."
   ]
  },
  {
   "cell_type": "code",
   "execution_count": 1,
   "id": "478bf394",
   "metadata": {},
   "outputs": [
    {
     "name": "stderr",
     "output_type": "stream",
     "text": [
      "/Users/sebo/Projects/Regression_ML_EndtoEnd/.venv/lib/python3.11/site-packages/tqdm/auto.py:21: TqdmWarning: IProgress not found. Please update jupyter and ipywidgets. See https://ipywidgets.readthedocs.io/en/stable/user_install.html\n",
      "  from .autonotebook import tqdm as notebook_tqdm\n"
     ]
    }
   ],
   "source": [
    "# ==============================================\n",
    "# 1. Imports\n",
    "# ==============================================\n",
    "import pandas as pd\n",
    "import numpy as np\n",
    "from sklearn.metrics import mean_absolute_error, mean_squared_error, r2_score\n",
    "from xgboost import XGBRegressor\n",
    "import optuna\n",
    "import mlflow\n",
    "import mlflow.xgboost"
   ]
  },
  {
   "cell_type": "code",
   "execution_count": 2,
   "id": "a0bc804c",
   "metadata": {},
   "outputs": [
    {
     "name": "stdout",
     "output_type": "stream",
     "text": [
      "Train shape: (576815, 39)\n",
      "Eval shape: (148448, 39)\n"
     ]
    }
   ],
   "source": [
    "# ==============================================\n",
    "# 2. Load processed datasets\n",
    "# ==============================================\n",
    "train_df = pd.read_csv(\"../data/processed/feature_engineered_train.csv\")\n",
    "eval_df  = pd.read_csv(\"../data/processed/feature_engineered_eval.csv\")\n",
    "\n",
    "\n",
    "# Define target + features\n",
    "target = \"price\"\n",
    "X_train, y_train = train_df.drop(columns=[target]), train_df[target]\n",
    "X_eval, y_eval   = eval_df.drop(columns=[target]), eval_df[target]\n",
    "\n",
    "print(\"Train shape:\", X_train.shape)\n",
    "print(\"Eval shape:\", X_eval.shape)"
   ]
  },
  {
   "cell_type": "code",
   "execution_count": 3,
   "id": "fadb78cd",
   "metadata": {},
   "outputs": [],
   "source": [
    "# ==============================================\n",
    "# 3. Define Optuna objective function with MLflow\n",
    "# ==============================================\n",
    "def objective(trial):\n",
    "    params = {\n",
    "        \"n_estimators\": trial.suggest_int(\"n_estimators\", 200, 1000),\n",
    "        \"max_depth\": trial.suggest_int(\"max_depth\", 3, 10),\n",
    "        \"learning_rate\": trial.suggest_float(\"learning_rate\", 0.01, 0.3, log=True),\n",
    "        \"subsample\": trial.suggest_float(\"subsample\", 0.5, 1.0),\n",
    "        \"colsample_bytree\": trial.suggest_float(\"colsample_bytree\", 0.5, 1.0),\n",
    "        \"min_child_weight\": trial.suggest_int(\"min_child_weight\", 1, 10),\n",
    "        \"gamma\": trial.suggest_float(\"gamma\", 0.0, 5.0),\n",
    "        \"reg_alpha\": trial.suggest_float(\"reg_alpha\", 1e-8, 10.0, log=True),\n",
    "        \"reg_lambda\": trial.suggest_float(\"reg_lambda\", 1e-8, 10.0, log=True),\n",
    "        \"random_state\": 42,\n",
    "        \"n_jobs\": -1,\n",
    "        \"tree_method\": \"hist\",\n",
    "    }\n",
    "\n",
    "    with mlflow.start_run(nested=True):\n",
    "        model = XGBRegressor(**params)\n",
    "        model.fit(X_train, y_train)\n",
    "\n",
    "        y_pred = model.predict(X_eval)\n",
    "        rmse = float(np.sqrt(mean_squared_error(y_eval, y_pred)))\n",
    "        mae = float(mean_absolute_error(y_eval, y_pred))\n",
    "        r2 = float(r2_score(y_eval, y_pred))\n",
    "\n",
    "        # Log hyperparameters + metrics\n",
    "        mlflow.log_params(params)\n",
    "        mlflow.log_metrics({\"rmse\": rmse, \"mae\": mae, \"r2\": r2})\n",
    "\n",
    "    return rmse"
   ]
  },
  {
   "cell_type": "code",
   "execution_count": 4,
   "id": "4ed4b5f5",
   "metadata": {},
   "outputs": [
    {
     "name": "stderr",
     "output_type": "stream",
     "text": [
      "2025/10/27 15:55:10 INFO mlflow.tracking.fluent: Experiment with name 'xgboost_optuna_housing' does not exist. Creating a new experiment.\n",
      "[I 2025-10-27 15:55:10,618] A new study created in memory with name: no-name-657b2d23-ec7e-4c4c-b0a3-e11637dc9363\n",
      "[I 2025-10-27 15:55:23,550] Trial 0 finished with value: 78947.02731429378 and parameters: {'n_estimators': 927, 'max_depth': 9, 'learning_rate': 0.2773386225606036, 'subsample': 0.9389982069774979, 'colsample_bytree': 0.7859775643402984, 'min_child_weight': 6, 'gamma': 4.412620585320625, 'reg_alpha': 5.904712187951505, 'reg_lambda': 0.5799042287453137}. Best is trial 0 with value: 78947.02731429378.\n",
      "[I 2025-10-27 15:55:26,678] Trial 1 finished with value: 76835.37370573603 and parameters: {'n_estimators': 605, 'max_depth': 3, 'learning_rate': 0.07723617393568023, 'subsample': 0.6259314782302738, 'colsample_bytree': 0.6537782449063105, 'min_child_weight': 6, 'gamma': 1.3697215055254448, 'reg_alpha': 3.2896777024647956e-06, 'reg_lambda': 8.778462271953452e-05}. Best is trial 1 with value: 76835.37370573603.\n",
      "[I 2025-10-27 15:55:30,401] Trial 2 finished with value: 73981.35990253616 and parameters: {'n_estimators': 751, 'max_depth': 3, 'learning_rate': 0.16643485744051623, 'subsample': 0.8099574411383043, 'colsample_bytree': 0.8338704086910507, 'min_child_weight': 10, 'gamma': 1.7200316260697917, 'reg_alpha': 3.533836867363754e-05, 'reg_lambda': 1.553331342249672e-08}. Best is trial 2 with value: 73981.35990253616.\n",
      "[I 2025-10-27 15:55:43,910] Trial 3 finished with value: 76933.5593610665 and parameters: {'n_estimators': 827, 'max_depth': 10, 'learning_rate': 0.23395288814567514, 'subsample': 0.6020107721812121, 'colsample_bytree': 0.6900587752451304, 'min_child_weight': 8, 'gamma': 0.6982532837860705, 'reg_alpha': 0.021715087299206626, 'reg_lambda': 0.001195214045692733}. Best is trial 2 with value: 73981.35990253616.\n",
      "[I 2025-10-27 15:55:49,302] Trial 4 finished with value: 81010.01454439758 and parameters: {'n_estimators': 889, 'max_depth': 4, 'learning_rate': 0.014725437096228334, 'subsample': 0.7466888327261051, 'colsample_bytree': 0.8716935444513285, 'min_child_weight': 6, 'gamma': 1.4043585355267303, 'reg_alpha': 0.0861145563281791, 'reg_lambda': 6.05236055861977e-07}. Best is trial 2 with value: 73981.35990253616.\n",
      "[I 2025-10-27 15:55:50,859] Trial 5 finished with value: 84682.78780374047 and parameters: {'n_estimators': 221, 'max_depth': 4, 'learning_rate': 0.03683717079308951, 'subsample': 0.6798793436984331, 'colsample_bytree': 0.5103560887084717, 'min_child_weight': 8, 'gamma': 3.74472819919968, 'reg_alpha': 0.28950323031042224, 'reg_lambda': 1.4584573326059328e-06}. Best is trial 2 with value: 73981.35990253616.\n",
      "[I 2025-10-27 15:55:55,302] Trial 6 finished with value: 83293.43812626059 and parameters: {'n_estimators': 904, 'max_depth': 3, 'learning_rate': 0.024007455295585973, 'subsample': 0.8552080247002798, 'colsample_bytree': 0.5410955383402203, 'min_child_weight': 2, 'gamma': 2.5101353300923783, 'reg_alpha': 1.781391061973571e-08, 'reg_lambda': 8.022696622157701}. Best is trial 2 with value: 73981.35990253616.\n",
      "[I 2025-10-27 15:56:07,520] Trial 7 finished with value: 72871.94646108976 and parameters: {'n_estimators': 856, 'max_depth': 9, 'learning_rate': 0.16850027438634974, 'subsample': 0.5299688966350864, 'colsample_bytree': 0.8265634394940047, 'min_child_weight': 2, 'gamma': 0.5141143723149932, 'reg_alpha': 1.2297252740379062e-08, 'reg_lambda': 2.7075929470329073e-06}. Best is trial 7 with value: 72871.94646108976.\n",
      "[I 2025-10-27 15:56:08,939] Trial 8 finished with value: 77361.32243290923 and parameters: {'n_estimators': 205, 'max_depth': 4, 'learning_rate': 0.12460421439072393, 'subsample': 0.7019125706110153, 'colsample_bytree': 0.910945687610851, 'min_child_weight': 6, 'gamma': 1.1406816403712257, 'reg_alpha': 0.6256980758418655, 'reg_lambda': 1.360207440881432e-05}. Best is trial 7 with value: 72871.94646108976.\n",
      "[I 2025-10-27 15:56:17,359] Trial 9 finished with value: 70849.74372635254 and parameters: {'n_estimators': 591, 'max_depth': 9, 'learning_rate': 0.1152555622495785, 'subsample': 0.8619387478761882, 'colsample_bytree': 0.5987746167194063, 'min_child_weight': 5, 'gamma': 1.3033663623423464, 'reg_alpha': 1.2987487636800786e-06, 'reg_lambda': 1.2048985201780023}. Best is trial 9 with value: 70849.74372635254.\n",
      "[I 2025-10-27 15:56:21,588] Trial 10 finished with value: 69558.25029828667 and parameters: {'n_estimators': 433, 'max_depth': 7, 'learning_rate': 0.06767706717503987, 'subsample': 0.9898674113583071, 'colsample_bytree': 0.6116792097304845, 'min_child_weight': 4, 'gamma': 2.9639232782784024, 'reg_alpha': 1.5636434893108597e-06, 'reg_lambda': 0.02265809568201215}. Best is trial 10 with value: 69558.25029828667.\n",
      "[I 2025-10-27 15:56:25,761] Trial 11 finished with value: 68003.98912041892 and parameters: {'n_estimators': 428, 'max_depth': 7, 'learning_rate': 0.06887633522014171, 'subsample': 0.9923752265973927, 'colsample_bytree': 0.6291087711786132, 'min_child_weight': 4, 'gamma': 2.759574642692789, 'reg_alpha': 1.1601196098114817e-06, 'reg_lambda': 0.020843543082889604}. Best is trial 11 with value: 68003.98912041892.\n",
      "[I 2025-10-27 15:56:29,593] Trial 12 finished with value: 69844.01838861081 and parameters: {'n_estimators': 389, 'max_depth': 7, 'learning_rate': 0.04885410414192602, 'subsample': 0.9938508062152597, 'colsample_bytree': 0.7024861760254902, 'min_child_weight': 4, 'gamma': 2.9973641024077544, 'reg_alpha': 0.00043136792793586757, 'reg_lambda': 0.007361891226647951}. Best is trial 11 with value: 68003.98912041892.\n",
      "[I 2025-10-27 15:56:33,789] Trial 13 finished with value: 68260.66790780354 and parameters: {'n_estimators': 425, 'max_depth': 7, 'learning_rate': 0.0713930804030107, 'subsample': 0.9988139117779253, 'colsample_bytree': 0.6009823613200926, 'min_child_weight': 3, 'gamma': 3.283069245510795, 'reg_alpha': 4.657445379108028e-07, 'reg_lambda': 0.0252528041949405}. Best is trial 11 with value: 68003.98912041892.\n",
      "[I 2025-10-27 15:56:37,198] Trial 14 finished with value: 77267.92462174247 and parameters: {'n_estimators': 387, 'max_depth': 6, 'learning_rate': 0.03303242299046983, 'subsample': 0.914620919857361, 'colsample_bytree': 0.9931472231116548, 'min_child_weight': 1, 'gamma': 4.985122317657937, 'reg_alpha': 0.0007296786959930924, 'reg_lambda': 0.05781019858412369}. Best is trial 11 with value: 68003.98912041892.\n"
     ]
    },
    {
     "name": "stdout",
     "output_type": "stream",
     "text": [
      "Best params: {'n_estimators': 428, 'max_depth': 7, 'learning_rate': 0.06887633522014171, 'subsample': 0.9923752265973927, 'colsample_bytree': 0.6291087711786132, 'min_child_weight': 4, 'gamma': 2.759574642692789, 'reg_alpha': 1.1601196098114817e-06, 'reg_lambda': 0.020843543082889604}\n"
     ]
    }
   ],
   "source": [
    "# ==============================================\n",
    "# 4. Run Optuna study with MLflow\n",
    "# ==============================================\n",
    "# Force MLflow to always use the root project mlruns folder\n",
    "mlflow.set_tracking_uri(\"../mlruns\")\n",
    "mlflow.set_experiment(\"xgboost_optuna_housing\")\n",
    "\n",
    "study = optuna.create_study(direction=\"minimize\")\n",
    "study.optimize(objective, n_trials=15)\n",
    "\n",
    "print(\"Best params:\", study.best_trial.params)"
   ]
  },
  {
   "cell_type": "code",
   "execution_count": 5,
   "id": "21b8c223",
   "metadata": {},
   "outputs": [
    {
     "name": "stdout",
     "output_type": "stream",
     "text": [
      "Final tuned model performance:\n",
      "MAE: 32113.973916551815\n",
      "RMSE: 69725.74557413971\n",
      "R²: 0.9624295527656418\n"
     ]
    },
    {
     "name": "stderr",
     "output_type": "stream",
     "text": [
      "/Users/sebo/Projects/Regression_ML_EndtoEnd/.venv/lib/python3.11/site-packages/xgboost/sklearn.py:1115: UserWarning: [15:56:49] WARNING: /Users/runner/work/xgboost/xgboost/src/c_api/c_api.cc:1575: Saving model in the UBJSON format as default.  You can use a file extension: `json` or `ubj` to choose between formats.\n",
      "  self.get_booster().save_model(fname)\n",
      "\u001b[31m2025/10/27 15:56:52 WARNING mlflow.models.model: Model logged without a signature and input example. Please set `input_example` parameter when logging the model to auto infer the model signature.\u001b[0m\n"
     ]
    }
   ],
   "source": [
    "# ==============================================\n",
    "# 5. Train final model with best params and log to MLflow\n",
    "# ==============================================\n",
    "best_params = study.best_trial.params\n",
    "best_model = XGBRegressor(**best_params)\n",
    "best_model.fit(X_train, y_train)\n",
    "\n",
    "y_pred = best_model.predict(X_eval)\n",
    "\n",
    "mae = mean_absolute_error(y_eval, y_pred)\n",
    "rmse = np.sqrt(mean_squared_error(y_eval, y_pred))\n",
    "r2 = r2_score(y_eval, y_pred)\n",
    "\n",
    "print(\"Final tuned model performance:\")\n",
    "print(\"MAE:\", mae)\n",
    "print(\"RMSE:\", rmse)\n",
    "print(\"R²:\", r2)\n",
    "\n",
    "# Log final model\n",
    "with mlflow.start_run(run_name=\"best_xgboost_model\"):\n",
    "    mlflow.log_params(best_params)\n",
    "    mlflow.log_metrics({\"rmse\": rmse, \"mae\": mae, \"r2\": r2})\n",
    "    mlflow.xgboost.log_model(best_model, name=\"model\")"
   ]
  },
  {
   "cell_type": "code",
   "execution_count": null,
   "id": "be1c1be9",
   "metadata": {},
   "outputs": [],
   "source": []
  }
 ],
 "metadata": {
  "kernelspec": {
   "display_name": ".venv",
   "language": "python",
   "name": "python3"
  },
  "language_info": {
   "codemirror_mode": {
    "name": "ipython",
    "version": 3
   },
   "file_extension": ".py",
   "mimetype": "text/x-python",
   "name": "python",
   "nbconvert_exporter": "python",
   "pygments_lexer": "ipython3",
   "version": "3.11.3"
  }
 },
 "nbformat": 4,
 "nbformat_minor": 5
}
