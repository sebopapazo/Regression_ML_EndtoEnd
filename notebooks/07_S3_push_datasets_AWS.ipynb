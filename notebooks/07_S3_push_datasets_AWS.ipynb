{
 "cells": [
  {
   "cell_type": "code",
   "execution_count": null,
   "id": "9583625c",
   "metadata": {},
   "outputs": [],
   "source": [
    "import configparser\n",
    "\n",
    "config = configparser.ConfigParser()\n",
    "config.read('../.aws/credentials')  # replace with your filename/path\n"
   ]
  },
  {
   "cell_type": "code",
   "execution_count": null,
   "id": "93739871",
   "metadata": {},
   "outputs": [],
   "source": [
    "aws_access_key_id = config['default']['aws_access_key_id']\n",
    "aws_secret_access_key = config['default']['aws_secret_access_key']"
   ]
  },
  {
   "cell_type": "code",
   "execution_count": null,
   "id": "14b94cae",
   "metadata": {},
   "outputs": [],
   "source": [
    "import boto3\n",
    "from pathlib import Path\n",
    "\n",
    "# ---- Config ----\n",
    "bucket = \"housing-regression-data-eu\"   # replace with your bucket name\n",
    "region = \"eu-central-1\"                 # your AWS region\n",
    "\n",
    "# Set project root as parent of the notebooks folder\n",
    "PROJECT_ROOT = Path.cwd().parent\n",
    "#PROJECT_ROOT = \"..\"\n",
    "local_data_dir = PROJECT_ROOT / \"data\" / \"processed\"\n",
    "local_model_dir = PROJECT_ROOT / \"models\"\n",
    "\n",
    "session = boto3.Session(\n",
    "    aws_access_key_id=aws_access_key_id,\n",
    "    aws_secret_access_key=aws_secret_access_key\n",
    ")\n",
    "\n",
    "s3 = session.client(\"s3\", region_name=region)"
   ]
  },
  {
   "cell_type": "code",
   "execution_count": null,
   "id": "34cabfdd",
   "metadata": {},
   "outputs": [],
   "source": [
    "# ---- Helper function ----\n",
    "def upload_file(local_path: Path, s3_key: str):\n",
    "    if not local_path.exists():\n",
    "        print(f\"❌ File not found: {local_path}\")\n",
    "        return\n",
    "    print(f\"⬆️ Uploading {local_path} → s3://{bucket}/{s3_key}\")\n",
    "    s3.upload_file(str(local_path), bucket, s3_key)\n",
    "\n",
    "# ---- Upload required datasets ----\n",
    "upload_file(local_data_dir / \"feature_engineered_holdout.csv\", \"processed/feature_engineered_holdout.csv\")\n",
    "upload_file(local_data_dir / \"cleaning_holdout.csv\", \"processed/cleaning_holdout.csv\")\n",
    "upload_file(local_data_dir / \"feature_engineered_train.csv\", \"processed/feature_engineered_train.csv\")\n",
    "\n",
    "# ---- Upload model ----\n",
    "upload_file(local_model_dir / \"xgb_best_model.pkl\", \"models/xgb_best_model.pkl\")"
   ]
  },
  {
   "cell_type": "code",
   "execution_count": null,
   "id": "fda5457e",
   "metadata": {},
   "outputs": [],
   "source": []
  }
 ],
 "metadata": {
  "kernelspec": {
   "display_name": ".venv",
   "language": "python",
   "name": "python3"
  },
  "language_info": {
   "codemirror_mode": {
    "name": "ipython",
    "version": 3
   },
   "file_extension": ".py",
   "mimetype": "text/x-python",
   "name": "python",
   "nbconvert_exporter": "python",
   "pygments_lexer": "ipython3",
   "version": "3.11.3"
  }
 },
 "nbformat": 4,
 "nbformat_minor": 5
}
